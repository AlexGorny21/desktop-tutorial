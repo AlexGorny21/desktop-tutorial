{
 "cells": [
  {
   "cell_type": "markdown",
   "id": "f4607972",
   "metadata": {},
   "source": [
    "print(312)sdfsd\n",
    "\n"
   ]
  },
  {
   "cell_type": "code",
   "execution_count": 9,
   "id": "e6744b63",
   "metadata": {},
   "outputs": [
    {
     "name": "stdout",
     "output_type": "stream",
     "text": [
      "[1, 0, 2, 3, 10, 4, 18, 5]\n"
     ]
    }
   ],
   "source": [
    "list_example = [1, 0, 2, 3, 10, 4, 18, 5]\n",
    "for i in list_example:\n",
    "    i = i**2\n",
    "print(list_example)"
   ]
  },
  {
   "cell_type": "code",
   "execution_count": 13,
   "id": "ec08b4d4",
   "metadata": {},
   "outputs": [
    {
     "name": "stdout",
     "output_type": "stream",
     "text": [
      "[1, 0, 2, 3, 10, 4, 18, 5]\n",
      "[1, 0, 2, 3, 10, 4, 18, 5]\n",
      "[1, 0, 2, 3, 10, 4, 18, 5]\n",
      "[1, 0, 2, 3, 10, 4, 18, 5]\n",
      "[1, 0, 2, 3, 10, 4, 18, 5]\n",
      "[1, 0, 2, 3, 10, 4, 18, 5]\n",
      "[1, 0, 2, 3, 10, 4, 18, 5]\n",
      "[1, 0, 2, 3, 10, 4, 18, 5]\n"
     ]
    }
   ],
   "source": [
    "list_example = [1, 0, 2, 3, 10, 4, 18, 5]\n",
    "for i in list_example:\n",
    "    i = i**2\n",
    "    print(list_example)"
   ]
  },
  {
   "cell_type": "code",
   "execution_count": null,
   "id": "4c24539a",
   "metadata": {},
   "outputs": [],
   "source": [
    "def square(x):\n",
    "    return x + 1"
   ]
  },
  {
   "cell_type": "code",
   "execution_count": 11,
   "id": "f495b2c8",
   "metadata": {},
   "outputs": [
    {
     "ename": "SyntaxError",
     "evalue": "invalid syntax (Temp/ipykernel_13468/136700305.py, line 1)",
     "output_type": "error",
     "traceback": [
      "\u001b[1;36m  File \u001b[1;32m\"C:\\Users\\Alexandr\\AppData\\Local\\Temp/ipykernel_13468/136700305.py\"\u001b[1;36m, line \u001b[1;32m1\u001b[0m\n\u001b[1;33m    def square_list(input_list[i]):\u001b[0m\n\u001b[1;37m                              ^\u001b[0m\n\u001b[1;31mSyntaxError\u001b[0m\u001b[1;31m:\u001b[0m invalid syntax\n"
     ]
    }
   ],
   "source": [
    "def square_list(input_list[i]):\n",
    "    new_list = [i**2]\n",
    "    return new_list"
   ]
  },
  {
   "cell_type": "code",
   "execution_count": null,
   "id": "f838222a",
   "metadata": {},
   "outputs": [],
   "source": [
    "def square_list2(input_list):\n",
    "    return"
   ]
  },
  {
   "cell_type": "code",
   "execution_count": 5,
   "id": "856b0afd",
   "metadata": {},
   "outputs": [
    {
     "data": {
      "text/plain": [
       "[1, 0, 4, 9, 100, 16, 324, 25]"
      ]
     },
     "execution_count": 5,
     "metadata": {},
     "output_type": "execute_result"
    }
   ],
   "source": [
    "list_example = [1, 0, 2, 3, 10, 4, 18, 5]\n",
    "def square_list(input_list):\n",
    "    new_list = []\n",
    "    for x in input_list:\n",
    "        new_list.append(x * x)\n",
    "    return new_list\n",
    "square_list(list_example)"
   ]
  },
  {
   "cell_type": "code",
   "execution_count": 9,
   "id": "b0dfebe0-302c-45f0-b239-dd650d35f7fd",
   "metadata": {},
   "outputs": [
    {
     "data": {
      "text/plain": [
       "[1, 0, 4, 3, 100, 4, 324, 5]"
      ]
     },
     "execution_count": 9,
     "metadata": {},
     "output_type": "execute_result"
    }
   ],
   "source": [
    "list_example = [1, 0, 2, 3, 10, 4, 18, 5]\n",
    "def square_list(input_list):\n",
    "    input_list[::2] = map(lambda x: x*x, input_list[::2])\n",
    "    return input_list\n",
    "square_list(list_example)"
   ]
  },
  {
   "cell_type": "code",
   "execution_count": null,
   "id": "0f33d703-1982-412f-952c-2ffad2f02672",
   "metadata": {},
   "outputs": [],
   "source": []
  }
 ],
 "metadata": {
  "kernelspec": {
   "display_name": "Python 3 (ipykernel)",
   "language": "python",
   "name": "python3"
  },
  "language_info": {
   "codemirror_mode": {
    "name": "ipython",
    "version": 3
   },
   "file_extension": ".py",
   "mimetype": "text/x-python",
   "name": "python",
   "nbconvert_exporter": "python",
   "pygments_lexer": "ipython3",
   "version": "3.9.7"
  }
 },
 "nbformat": 4,
 "nbformat_minor": 5
}
